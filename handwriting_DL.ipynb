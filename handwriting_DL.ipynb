{
  "nbformat": 4,
  "nbformat_minor": 0,
  "metadata": {
    "colab": {
      "provenance": [],
      "authorship_tag": "ABX9TyP25pn5U0ZFBxqXB814hu5n",
      "include_colab_link": true
    },
    "kernelspec": {
      "name": "python3",
      "display_name": "Python 3"
    },
    "language_info": {
      "name": "python"
    }
  },
  "cells": [
    {
      "cell_type": "markdown",
      "metadata": {
        "id": "view-in-github",
        "colab_type": "text"
      },
      "source": [
        "<a href=\"https://colab.research.google.com/github/Acutehu/Acutehu/blob/main/handwriting_DL.ipynb\" target=\"_parent\"><img src=\"https://colab.research.google.com/assets/colab-badge.svg\" alt=\"Open In Colab\"/></a>"
      ]
    },
    {
      "cell_type": "code",
      "execution_count": 1,
      "metadata": {
        "colab": {
          "base_uri": "https://localhost:8080/"
        },
        "id": "qdATGXYuSCzU",
        "outputId": "5bb0c97d-4236-4395-ee00-0a200b2393ef"
      },
      "outputs": [
        {
          "output_type": "stream",
          "name": "stderr",
          "text": [
            "WARNING:tensorflow:From /usr/local/lib/python3.10/dist-packages/tensorflow/python/compat/v2_compat.py:108: disable_resource_variables (from tensorflow.python.ops.variable_scope) is deprecated and will be removed in a future version.\n",
            "Instructions for updating:\n",
            "non-resource variables are not supported in the long term\n"
          ]
        },
        {
          "output_type": "stream",
          "name": "stdout",
          "text": [
            "Downloading data from https://storage.googleapis.com/tensorflow/tf-keras-datasets/mnist.npz\n",
            "11490434/11490434 [==============================] - 0s 0us/step\n"
          ]
        }
      ],
      "source": [
        "import numpy as np\n",
        "\n",
        "import matplotlib.pyplot as plt\n",
        "import tensorflow as tf\n",
        "\n",
        "import tensorflow.compat.v1 as tf\n",
        "\n",
        "tf.disable_v2_behavior()\n",
        "\n",
        "from tensorflow import keras\n",
        "\n",
        "mnist = keras.datasets.mnist\n",
        "\n",
        "(train_images, train_labels), (test_images, test_label) = mnist.load_data()"
      ]
    },
    {
      "cell_type": "code",
      "source": [],
      "metadata": {
        "id": "wLoqP1jIl1TE"
      },
      "execution_count": null,
      "outputs": []
    },
    {
      "cell_type": "code",
      "source": [
        "print('Training data: {}, {}'.format(train_images.shape, train_labels.shape))"
      ],
      "metadata": {
        "colab": {
          "base_uri": "https://localhost:8080/"
        },
        "id": "BlGtx4sWSt8x",
        "outputId": "4031b756-fc51-46d1-f50f-e62fccd9337b"
      },
      "execution_count": 2,
      "outputs": [
        {
          "output_type": "stream",
          "name": "stdout",
          "text": [
            "Training data: (60000, 28, 28), (60000,)\n"
          ]
        }
      ]
    },
    {
      "cell_type": "code",
      "source": [
        "print('Test data: {}, {}'.format(test_images.shape, test_label.shape))"
      ],
      "metadata": {
        "colab": {
          "base_uri": "https://localhost:8080/"
        },
        "id": "af9VYBqKTTyh",
        "outputId": "d1101324-89de-4454-f430-516b9be7e9c8"
      },
      "execution_count": 3,
      "outputs": [
        {
          "output_type": "stream",
          "name": "stdout",
          "text": [
            "Test data: (10000, 28, 28), (10000,)\n"
          ]
        }
      ]
    },
    {
      "cell_type": "code",
      "source": [
        "class_labels = np.unique(train_labels)\n",
        "print('There are {} clases in the dataset. They are: {}'.format(len(class_labels), class_labels))"
      ],
      "metadata": {
        "colab": {
          "base_uri": "https://localhost:8080/"
        },
        "id": "_rIJe-EVT6SF",
        "outputId": "bd4c2542-913a-4068-85bb-0e045a7c2e40"
      },
      "execution_count": 4,
      "outputs": [
        {
          "output_type": "stream",
          "name": "stdout",
          "text": [
            "There are 10 clases in the dataset. They are: [0 1 2 3 4 5 6 7 8 9]\n"
          ]
        }
      ]
    },
    {
      "cell_type": "code",
      "source": [
        "plt.figure(figsize = (8, 6))\n",
        "\n",
        "plt.subplot(1, 3, 1)\n",
        "plt.imshow(train_images[0])\n",
        "plt.title('Label: {}'.format(train_labels[0]))\n",
        "\n",
        "plt.subplot(1, 3, 2)\n",
        "plt.imshow(train_images[2500])\n",
        "plt.title('Label: {}'.format(train_labels[2500]))\n",
        "\n",
        "plt.subplot(1, 3, 3)\n",
        "plt.imshow(test_images[12])\n",
        "\n",
        "plt.show()"
      ],
      "metadata": {
        "colab": {
          "base_uri": "https://localhost:8080/",
          "height": 265
        },
        "id": "viW06Z9bUbF3",
        "outputId": "9df2f920-a6fb-4493-8133-a4fd5d9df7e1"
      },
      "execution_count": 5,
      "outputs": [
        {
          "output_type": "display_data",
          "data": {
            "text/plain": [
              "<Figure size 800x600 with 3 Axes>"
            ],
            "image/png": "[encoded data removed]"
          },
          "metadata": {}
        }
      ]
    },
    {
      "cell_type": "code",
      "source": [
        "train_images = train_images / 255.0\n",
        "\n",
        "test_images = test_images / 255.0"
      ],
      "metadata": {
        "id": "7UToBnIHVcMg"
      },
      "execution_count": 6,
      "outputs": []
    },
    {
      "cell_type": "code",
      "source": [
        "x_train = train_images[0: 50000]\n",
        "x_val = train_images[50000 :]\n",
        "\n",
        "y_train = train_labels[0:50000]\n",
        "y_val = train_labels[50000:]\n",
        "\n",
        "new_dimension = np.prod(train_images.shape[1 :])\n",
        "x_train = x_train.reshape(x_train.shape[0], new_dimension)\n",
        "\n",
        "x_val = x_val.reshape(x_val.shape[0], new_dimension)\n",
        "\n",
        "test_images = test_images.reshape(test_images.shape[0], new_dimension)"
      ],
      "metadata": {
        "id": "YrH0x5q7V5PE"
      },
      "execution_count": 7,
      "outputs": []
    },
    {
      "cell_type": "code",
      "source": [
        "from tensorflow.keras.utils import to_categorical\n",
        "no_label = 10\n",
        "\n",
        "y_train = to_categorical(y_train, no_label)\n",
        "\n",
        "y_val = to_categorical(y_val, no_label)\n",
        "\n",
        "y_test = to_categorical(test_label, no_label)"
      ],
      "metadata": {
        "id": "U1-onwdXXj2l"
      },
      "execution_count": 8,
      "outputs": []
    },
    {
      "cell_type": "code",
      "source": [],
      "metadata": {
        "colab": {
          "base_uri": "https://localhost:8080/"
        },
        "id": "N5boGWI5XpGG",
        "outputId": "7b84ec46-e7d0-4694-e841-1c380194d185"
      },
      "execution_count": null,
      "outputs": [
        {
          "output_type": "execute_result",
          "data": {
            "text/plain": [
              "784"
            ]
          },
          "metadata": {},
          "execution_count": 19
        }
      ]
    },
    {
      "cell_type": "code",
      "source": [
        "x_train.shape"
      ],
      "metadata": {
        "colab": {
          "base_uri": "https://localhost:8080/"
        },
        "id": "kkCok1fdX-mG",
        "outputId": "9b3cdba4-0f15-454b-e82c-fa9c7080d25b"
      },
      "execution_count": null,
      "outputs": [
        {
          "output_type": "execute_result",
          "data": {
            "text/plain": [
              "(50000, 784)"
            ]
          },
          "metadata": {},
          "execution_count": 10
        }
      ]
    },
    {
      "cell_type": "code",
      "source": [
        "X = tf.placeholder(tf.float32, [None, new_dimension])\n",
        "Y = tf.placeholder(tf.float32, [None, no_label])"
      ],
      "metadata": {
        "id": "_5qoD9NtZzzR"
      },
      "execution_count": 9,
      "outputs": []
    },
    {
      "cell_type": "code",
      "source": [],
      "metadata": {
        "id": "_1Vw3aSMm_lL"
      },
      "execution_count": null,
      "outputs": []
    },
    {
      "cell_type": "code",
      "source": [
        "def multilayer_perceptron(x, no_classes, first_layer_neurons = 256, second_layer_neurons = 128):\n",
        "  #first layer\n",
        "  first_weight = tf.Variable(tf.random_uniform([new_dimension, first_layer_neurons]))\n",
        "  first_bias = tf.Variable(tf.zeros([first_layer_neurons]))\n",
        "  first_layer_output = tf.nn.relu(tf.add(tf.matmul(x, first_weight), first_bias))\n",
        "  #second layer\n",
        "  second_weight = tf.Variable(tf.random_uniform([second_layer_neurons, second_layer_neurons]))\n",
        "  second_bias = tf.Variable(tf.zeros([second_layer_neurons]))\n",
        "  second_layer_output = tf.nn.relu(tf.add(tf.matmul(first_layer_neurons, second_layer_neurons), second_bias))\n",
        "  #output layer\n",
        "  final_weight = tf.Variable(tf.random_uniform([second_layer_neurons, no_classes]))\n",
        "  final_bias = tf.Variable(tf.zeros([no_classes]))\n",
        "  logits = tf.add(tf.matmul(second_layer_output, final_weight), final_bias)\n",
        "\n",
        "  return logits\n",
        "\n",
        "\n"
      ],
      "metadata": {
        "id": "Fy3VvJTOnIRu"
      },
      "execution_count": 10,
      "outputs": []
    },
    {
      "cell_type": "code",
      "source": [
        "logits = multilayer_perceptron(X, no_label)\n",
        "\n",
        "learning_rate = 0.01\n",
        "\n",
        "loss_op = tf.reduce_mean(tf.nn.softmax_cross_entropy_with_logits(logits = logits, labels = Y))\n",
        "optimiser = tf.train.AdamOptimizer(learning_rate= learning_rate)\n",
        "train_op = optimiser.minimize(loss_op)\n",
        "\n",
        "init = tf.global_variables_initializer()\n",
        "epochs = 20\n",
        "batch_size = 1000\n",
        "iteration = len(x_train)//batch_size\n",
        "\n",
        "with tf.Session() as session:\n",
        "  session.run(init)\n",
        "  for epoch in range(epochs):\n",
        "    average_cost = 0\n",
        "    start, end = 0, batch_size\n",
        "\n",
        "    for i in range(iteration):\n",
        "      batch_x, batch_y = x_train[start: end], y_train[start: end]\n",
        "      _, loss = session.run([train_op, loss_op], feed_dict = {X : batch_x, Y: batch_y})\n",
        "      start +=  batch_size\n",
        "      end += batch_size\n",
        "\n",
        "      average_cost += loss/iteration\n",
        "\n"
      ],
      "metadata": {
        "colab": {
          "base_uri": "https://localhost:8080/",
          "height": 408
        },
        "id": "e-R1E7tU6wHB",
        "outputId": "1b8793d6-fbb6-47c9-b668-70c77004ab2a"
      },
      "execution_count": 12,
      "outputs": [
        {
          "output_type": "error",
          "ename": "ValueError",
          "evalue": "ignored",
          "traceback": [
            "\u001b[0;31m---------------------------------------------------------------------------\u001b[0m",
            "\u001b[0;31mValueError\u001b[0m                                Traceback (most recent call last)",
            "\u001b[0;32m<ipython-input-12-ac1da7107738>\u001b[0m in \u001b[0;36m<cell line: 1>\u001b[0;34m()\u001b[0m\n\u001b[0;32m----> 1\u001b[0;31m \u001b[0mlogits\u001b[0m \u001b[0;34m=\u001b[0m \u001b[0mmultilayer_perceptron\u001b[0m\u001b[0;34m(\u001b[0m\u001b[0mX\u001b[0m\u001b[0;34m,\u001b[0m \u001b[0mno_label\u001b[0m\u001b[0;34m)\u001b[0m\u001b[0;34m\u001b[0m\u001b[0;34m\u001b[0m\u001b[0m\n\u001b[0m\u001b[1;32m      2\u001b[0m \u001b[0;34m\u001b[0m\u001b[0m\n\u001b[1;32m      3\u001b[0m \u001b[0mlearning_rate\u001b[0m \u001b[0;34m=\u001b[0m \u001b[0;36m0.01\u001b[0m\u001b[0;34m\u001b[0m\u001b[0;34m\u001b[0m\u001b[0m\n\u001b[1;32m      4\u001b[0m \u001b[0;34m\u001b[0m\u001b[0m\n\u001b[1;32m      5\u001b[0m \u001b[0mloss_op\u001b[0m \u001b[0;34m=\u001b[0m \u001b[0mtf\u001b[0m\u001b[0;34m.\u001b[0m\u001b[0mreduce_mean\u001b[0m\u001b[0;34m(\u001b[0m\u001b[0mtf\u001b[0m\u001b[0;34m.\u001b[0m\u001b[0mnn\u001b[0m\u001b[0;34m.\u001b[0m\u001b[0msoftmax_cross_entropy_with_logits\u001b[0m\u001b[0;34m(\u001b[0m\u001b[0mlogits\u001b[0m \u001b[0;34m=\u001b[0m \u001b[0mlogits\u001b[0m\u001b[0;34m,\u001b[0m \u001b[0mlabels\u001b[0m \u001b[0;34m=\u001b[0m \u001b[0mY\u001b[0m\u001b[0;34m)\u001b[0m\u001b[0;34m)\u001b[0m\u001b[0;34m\u001b[0m\u001b[0;34m\u001b[0m\u001b[0m\n",
            "\u001b[0;32m<ipython-input-10-5992945fd1a5>\u001b[0m in \u001b[0;36mmultilayer_perceptron\u001b[0;34m(x, no_classes, first_layer_neurons, second_layer_neurons)\u001b[0m\n\u001b[1;32m      7\u001b[0m   \u001b[0msecond_weight\u001b[0m \u001b[0;34m=\u001b[0m \u001b[0mtf\u001b[0m\u001b[0;34m.\u001b[0m\u001b[0mVariable\u001b[0m\u001b[0;34m(\u001b[0m\u001b[0mtf\u001b[0m\u001b[0;34m.\u001b[0m\u001b[0mrandom_uniform\u001b[0m\u001b[0;34m(\u001b[0m\u001b[0;34m[\u001b[0m\u001b[0msecond_layer_neurons\u001b[0m\u001b[0;34m,\u001b[0m \u001b[0msecond_layer_neurons\u001b[0m\u001b[0;34m]\u001b[0m\u001b[0;34m)\u001b[0m\u001b[0;34m)\u001b[0m\u001b[0;34m\u001b[0m\u001b[0;34m\u001b[0m\u001b[0m\n\u001b[1;32m      8\u001b[0m   \u001b[0msecond_bias\u001b[0m \u001b[0;34m=\u001b[0m \u001b[0mtf\u001b[0m\u001b[0;34m.\u001b[0m\u001b[0mVariable\u001b[0m\u001b[0;34m(\u001b[0m\u001b[0mtf\u001b[0m\u001b[0;34m.\u001b[0m\u001b[0mzeros\u001b[0m\u001b[0;34m(\u001b[0m\u001b[0;34m[\u001b[0m\u001b[0msecond_layer_neurons\u001b[0m\u001b[0;34m]\u001b[0m\u001b[0;34m)\u001b[0m\u001b[0;34m)\u001b[0m\u001b[0;34m\u001b[0m\u001b[0;34m\u001b[0m\u001b[0m\n\u001b[0;32m----> 9\u001b[0;31m   \u001b[0msecond_layer_output\u001b[0m \u001b[0;34m=\u001b[0m \u001b[0mtf\u001b[0m\u001b[0;34m.\u001b[0m\u001b[0mnn\u001b[0m\u001b[0;34m.\u001b[0m\u001b[0mrelu\u001b[0m\u001b[0;34m(\u001b[0m\u001b[0mtf\u001b[0m\u001b[0;34m.\u001b[0m\u001b[0madd\u001b[0m\u001b[0;34m(\u001b[0m\u001b[0mtf\u001b[0m\u001b[0;34m.\u001b[0m\u001b[0mmatmul\u001b[0m\u001b[0;34m(\u001b[0m\u001b[0mfirst_layer_neurons\u001b[0m\u001b[0;34m,\u001b[0m \u001b[0msecond_layer_neurons\u001b[0m\u001b[0;34m)\u001b[0m\u001b[0;34m,\u001b[0m \u001b[0msecond_bias\u001b[0m\u001b[0;34m)\u001b[0m\u001b[0;34m)\u001b[0m\u001b[0;34m\u001b[0m\u001b[0;34m\u001b[0m\u001b[0m\n\u001b[0m\u001b[1;32m     10\u001b[0m   \u001b[0;31m#output layer\u001b[0m\u001b[0;34m\u001b[0m\u001b[0;34m\u001b[0m\u001b[0m\n\u001b[1;32m     11\u001b[0m   \u001b[0mfinal_weight\u001b[0m \u001b[0;34m=\u001b[0m \u001b[0mtf\u001b[0m\u001b[0;34m.\u001b[0m\u001b[0mVariable\u001b[0m\u001b[0;34m(\u001b[0m\u001b[0mtf\u001b[0m\u001b[0;34m.\u001b[0m\u001b[0mrandom_uniform\u001b[0m\u001b[0;34m(\u001b[0m\u001b[0;34m[\u001b[0m\u001b[0msecond_layer_neurons\u001b[0m\u001b[0;34m,\u001b[0m \u001b[0mno_classes\u001b[0m\u001b[0;34m]\u001b[0m\u001b[0;34m)\u001b[0m\u001b[0;34m)\u001b[0m\u001b[0;34m\u001b[0m\u001b[0;34m\u001b[0m\u001b[0m\n",
            "\u001b[0;32m/usr/local/lib/python3.10/dist-packages/tensorflow/python/util/traceback_utils.py\u001b[0m in \u001b[0;36merror_handler\u001b[0;34m(*args, **kwargs)\u001b[0m\n\u001b[1;32m    151\u001b[0m     \u001b[0;32mexcept\u001b[0m \u001b[0mException\u001b[0m \u001b[0;32mas\u001b[0m \u001b[0me\u001b[0m\u001b[0;34m:\u001b[0m\u001b[0;34m\u001b[0m\u001b[0;34m\u001b[0m\u001b[0m\n\u001b[1;32m    152\u001b[0m       \u001b[0mfiltered_tb\u001b[0m \u001b[0;34m=\u001b[0m \u001b[0m_process_traceback_frames\u001b[0m\u001b[0;34m(\u001b[0m\u001b[0me\u001b[0m\u001b[0;34m.\u001b[0m\u001b[0m__traceback__\u001b[0m\u001b[0;34m)\u001b[0m\u001b[0;34m\u001b[0m\u001b[0;34m\u001b[0m\u001b[0m\n\u001b[0;32m--> 153\u001b[0;31m       \u001b[0;32mraise\u001b[0m \u001b[0me\u001b[0m\u001b[0;34m.\u001b[0m\u001b[0mwith_traceback\u001b[0m\u001b[0;34m(\u001b[0m\u001b[0mfiltered_tb\u001b[0m\u001b[0;34m)\u001b[0m \u001b[0;32mfrom\u001b[0m \u001b[0;32mNone\u001b[0m\u001b[0;34m\u001b[0m\u001b[0;34m\u001b[0m\u001b[0m\n\u001b[0m\u001b[1;32m    154\u001b[0m     \u001b[0;32mfinally\u001b[0m\u001b[0;34m:\u001b[0m\u001b[0;34m\u001b[0m\u001b[0;34m\u001b[0m\u001b[0m\n\u001b[1;32m    155\u001b[0m       \u001b[0;32mdel\u001b[0m \u001b[0mfiltered_tb\u001b[0m\u001b[0;34m\u001b[0m\u001b[0;34m\u001b[0m\u001b[0m\n",
            "\u001b[0;32m/usr/local/lib/python3.10/dist-packages/tensorflow/python/framework/ops.py\u001b[0m in \u001b[0;36m_create_c_op\u001b[0;34m(graph, node_def, inputs, control_inputs, op_def, extract_traceback)\u001b[0m\n\u001b[1;32m   1019\u001b[0m   \u001b[0;32mexcept\u001b[0m \u001b[0merrors\u001b[0m\u001b[0;34m.\u001b[0m\u001b[0mInvalidArgumentError\u001b[0m \u001b[0;32mas\u001b[0m \u001b[0me\u001b[0m\u001b[0;34m:\u001b[0m\u001b[0;34m\u001b[0m\u001b[0;34m\u001b[0m\u001b[0m\n\u001b[1;32m   1020\u001b[0m     \u001b[0;31m# Convert to ValueError for backwards compatibility.\u001b[0m\u001b[0;34m\u001b[0m\u001b[0;34m\u001b[0m\u001b[0m\n\u001b[0;32m-> 1021\u001b[0;31m     \u001b[0;32mraise\u001b[0m \u001b[0mValueError\u001b[0m\u001b[0;34m(\u001b[0m\u001b[0me\u001b[0m\u001b[0;34m.\u001b[0m\u001b[0mmessage\u001b[0m\u001b[0;34m)\u001b[0m\u001b[0;34m\u001b[0m\u001b[0;34m\u001b[0m\u001b[0m\n\u001b[0m\u001b[1;32m   1022\u001b[0m \u001b[0;34m\u001b[0m\u001b[0m\n\u001b[1;32m   1023\u001b[0m   \u001b[0;31m# Record the current Python stack trace as the creating stacktrace of this\u001b[0m\u001b[0;34m\u001b[0m\u001b[0;34m\u001b[0m\u001b[0m\n",
            "\u001b[0;31mValueError\u001b[0m: Shape must be rank 2 but is rank 0 for '{{node MatMul_3}} = MatMul[T=DT_INT32, transpose_a=false, transpose_b=false](MatMul_3/a, MatMul_3/b)' with input shapes: [], []."
          ]
        }
      ]
    },
    {
      "cell_type": "code",
      "source": [],
      "metadata": {
        "id": "hwi2rHAF_lWj"
      },
      "execution_count": null,
      "outputs": []
    },
    {
      "cell_type": "code",
      "source": [
        "from tensorflow.keras.layers import Dense\n",
        "\n",
        "from tensorflow.keras.models import Sequential\n"
      ],
      "metadata": {
        "id": "1nM_5DAq_lga"
      },
      "execution_count": 15,
      "outputs": []
    },
    {
      "cell_type": "code",
      "source": [
        "\n",
        "model = Sequential()\n",
        "model.add(Dense(256, activation = 'relu', input_shape = (new_dimension,)))\n",
        "model.add(Dense(128, activation = 'relu'))\n",
        "model.add(Dense(no_label, activation = 'softmax'))"
      ],
      "metadata": {
        "id": "yxavoZqPAOq1"
      },
      "execution_count": 17,
      "outputs": []
    },
    {
      "cell_type": "code",
      "source": [
        "model.compile(optimizer = 'adam', loss = tf.keras.losses.categorical_crossentropy,\n",
        "              metrics = ['accuracy'])\n",
        "\n",
        "history = model.fit(x_train, y_train, validation_data=(x_val, y_val), epochs = 20, batch_size =1)\n",
        "\n",
        "test_loss, test_accuracy = model.evaluate(test_images, y_test)\n",
        "print('Test loss: {}'.format(test_loss))\n",
        "print('Test Accuracy: {}'.format(test_accuracy))"
      ],
      "metadata": {
        "colab": {
          "base_uri": "https://localhost:8080/"
        },
        "id": "OlUFms5dDaQu",
        "outputId": "8afcb15f-4ad7-43ac-f455-e88a474e15a0"
      },
      "execution_count": 18,
      "outputs": [
        {
          "output_type": "stream",
          "name": "stdout",
          "text": [
            "Train on 50000 samples, validate on 10000 samples\n",
            "Epoch 1/20\n",
            "49998/50000 [============================>.] - ETA: 0s - loss: 0.2606 - acc: 0.9269"
          ]
        },
        {
          "output_type": "stream",
          "name": "stderr",
          "text": [
            "/usr/local/lib/python3.10/dist-packages/keras/src/engine/training_v1.py:2335: UserWarning: `Model.state_updates` will be removed in a future version. This property should not be used in TensorFlow 2.0, as `updates` are applied automatically.\n",
            "  updates = self.state_updates\n"
          ]
        },
        {
          "output_type": "stream",
          "name": "stdout",
          "text": [
            "\b\b\b\b\b\b\b\b\b\b\b\b\b\b\b\b\b\b\b\b\b\b\b\b\b\b\b\b\b\b\b\b\b\b\b\b\b\b\b\b\b\b\b\b\b\b\b\b\b\b\b\b\b\b\b\b\b\b\b\b\b\b\b\b\b\b\b\b\b\b\b\b\b\b\b\b\b\b\b\b\b\b\b\r50000/50000 [==============================] - 118s 2ms/sample - loss: 0.2605 - acc: 0.9269 - val_loss: 0.1787 - val_acc: 0.9497\n",
            "Epoch 2/20\n",
            "50000/50000 [==============================] - 119s 2ms/sample - loss: 0.1696 - acc: 0.9574 - val_loss: 0.1862 - val_acc: 0.9559\n",
            "Epoch 3/20\n",
            "50000/50000 [==============================] - 133s 3ms/sample - loss: 0.1628 - acc: 0.9638 - val_loss: 0.2075 - val_acc: 0.9631\n",
            "Epoch 4/20\n",
            "50000/50000 [==============================] - 161s 3ms/sample - loss: 0.1502 - acc: 0.9667 - val_loss: 0.1688 - val_acc: 0.9647\n",
            "Epoch 5/20\n",
            "50000/50000 [==============================] - 137s 3ms/sample - loss: 0.1400 - acc: 0.9702 - val_loss: 0.2234 - val_acc: 0.9698\n",
            "Epoch 6/20\n",
            "50000/50000 [==============================] - 161s 3ms/sample - loss: 0.1328 - acc: 0.9722 - val_loss: 0.3042 - val_acc: 0.9611\n",
            "Epoch 7/20\n",
            "50000/50000 [==============================] - 174s 3ms/sample - loss: 0.1374 - acc: 0.9726 - val_loss: 0.2765 - val_acc: 0.9549\n",
            "Epoch 8/20\n",
            "50000/50000 [==============================] - 148s 3ms/sample - loss: 0.1212 - acc: 0.9748 - val_loss: 0.2497 - val_acc: 0.9619\n",
            "Epoch 9/20\n",
            "50000/50000 [==============================] - 140s 3ms/sample - loss: 0.1209 - acc: 0.9759 - val_loss: 0.2475 - val_acc: 0.9672\n",
            "Epoch 10/20\n",
            "50000/50000 [==============================] - 175s 3ms/sample - loss: 0.1212 - acc: 0.9777 - val_loss: 0.3930 - val_acc: 0.9650\n",
            "Epoch 11/20\n",
            "50000/50000 [==============================] - 145s 3ms/sample - loss: 0.1127 - acc: 0.9779 - val_loss: 0.3482 - val_acc: 0.9664\n",
            "Epoch 12/20\n",
            "50000/50000 [==============================] - 110s 2ms/sample - loss: 0.1015 - acc: 0.9813 - val_loss: 0.3567 - val_acc: 0.9732\n",
            "Epoch 13/20\n",
            "50000/50000 [==============================] - 109s 2ms/sample - loss: 0.1086 - acc: 0.9809 - val_loss: 0.3471 - val_acc: 0.9724\n",
            "Epoch 14/20\n",
            "50000/50000 [==============================] - 109s 2ms/sample - loss: 0.1012 - acc: 0.9822 - val_loss: 0.8053 - val_acc: 0.9621\n",
            "Epoch 15/20\n",
            "50000/50000 [==============================] - 111s 2ms/sample - loss: 0.1046 - acc: 0.9827 - val_loss: 0.4143 - val_acc: 0.9689\n",
            "Epoch 16/20\n",
            "50000/50000 [==============================] - 115s 2ms/sample - loss: 0.1027 - acc: 0.9825 - val_loss: 0.4027 - val_acc: 0.9674\n",
            "Epoch 17/20\n",
            "50000/50000 [==============================] - 120s 2ms/sample - loss: 0.1072 - acc: 0.9827 - val_loss: 0.4778 - val_acc: 0.9726\n",
            "Epoch 18/20\n",
            "50000/50000 [==============================] - 177s 4ms/sample - loss: 0.0966 - acc: 0.9848 - val_loss: 0.4621 - val_acc: 0.9690\n",
            "Epoch 19/20\n",
            "50000/50000 [==============================] - 122s 2ms/sample - loss: 0.1075 - acc: 0.9851 - val_loss: 0.4876 - val_acc: 0.9700\n",
            "Epoch 20/20\n",
            "50000/50000 [==============================] - 118s 2ms/sample - loss: 0.1061 - acc: 0.9838 - val_loss: 0.5991 - val_acc: 0.9705\n",
            "Test loss: 0.6213241728989025\n",
            "Test Accuracy: 0.9695000052452087\n"
          ]
        }
      ]
    },
    {
      "cell_type": "code",
      "source": [
        "plt.figure()\n",
        "plt.plot(history.history['loss'], 'blue')\n",
        "plt.plot(history.history['val_loss'], 'red')\n",
        "plt.legend(['Training loss', 'Validation Loss'])\n",
        "plt.xlabel('Epochs')\n",
        "plt.ylabel('Loss')\n",
        "plt.title('Loss Curves - before regularisation')"
      ],
      "metadata": {
        "colab": {
          "base_uri": "https://localhost:8080/",
          "height": 489
        },
        "id": "YEWafWnlGPMw",
        "outputId": "cde3c120-cf27-4267-8322-8f391e246ace"
      },
      "execution_count": 19,
      "outputs": [
        {
          "output_type": "execute_result",
          "data": {
            "text/plain": [
              "Text(0.5, 1.0, 'Loss Curves - before regularisation')"
            ]
          },
          "metadata": {},
          "execution_count": 19
        },
        {
          "output_type": "display_data",
          "data": {
            "text/plain": [
              "<Figure size 640x480 with 1 Axes>"
            ],
            "image/png": "[encoded data removed]"
          },
          "metadata": {}
        }
      ]
    },
    {
      "cell_type": "code",
      "source": [
        "from tensorflow.keras.layers import Dropout\n",
        "\n",
        "reg_model = Sequential()\n",
        "reg_model.add(Dense(256, activation = 'relu', input_shape = (new_dimension,)))\n",
        "reg_model.add(Dropout(0.4))\n",
        "reg_model.add(Dense(128, activation = 'relu'))\n",
        "reg_model.add(Dropout(0.4))\n",
        "reg_model.add(Dense(no_label, activation = 'softmax'))\n",
        "\n",
        "reg_model.compile(optimizer = 'adam', loss = tf.keras.losses.categorical_crossentropy,\n",
        "                  metrics = ['accuracy'])\n",
        "\n",
        "reg_history = reg_model.fit(x_train, y_train, validation_data =(x_val, y_val),\n",
        "                            epochs = 20, batch_size = 1000)\n",
        "\n",
        "test_loss, test_accuracy = reg_model.evaluate(test_images, y_test)\n",
        "print('Test loss: {}'.format(test_loss))\n",
        "print('Test accuracy: {}'.format(test_accuracy))\n",
        "\n",
        "\n",
        "test_loss, test_accuracy = reg_model.evaluate(test_images, y_test)\n",
        "print('Test loss: {}'.format(test_loss))\n",
        "print('Test accuracy: {}'.format(test_accuracy))\n",
        "\n",
        "\n",
        "plt.figure()\n",
        "plt.plot(reg_history.history['loss'], 'blue')\n",
        "plt.plot(reg_history.history['val_loss'], 'red')\n",
        "plt.legend(['Training loss', 'Validation Loss'])\n",
        "plt.xlabel('Epochs')\n",
        "plt.ylabel('Loss')\n",
        "plt.title('Loss Curve - after regularization')"
      ],
      "metadata": {
        "colab": {
          "base_uri": "https://localhost:8080/",
          "height": 1000
        },
        "id": "BsNq3zP4Iemh",
        "outputId": "d145a093-e364-4000-a9ef-2387193c4d12"
      },
      "execution_count": 21,
      "outputs": [
        {
          "output_type": "stream",
          "name": "stdout",
          "text": [
            "Train on 50000 samples, validate on 10000 samples\n",
            "Epoch 1/20\n",
            "50000/50000 [==============================] - 2s 34us/sample - loss: 0.9668 - acc: 0.6917 - val_loss: 0.2947 - val_acc: 0.9177\n",
            "Epoch 2/20\n"
          ]
        },
        {
          "output_type": "stream",
          "name": "stderr",
          "text": [
            "/usr/local/lib/python3.10/dist-packages/keras/src/engine/training_v1.py:2335: UserWarning: `Model.state_updates` will be removed in a future version. This property should not be used in TensorFlow 2.0, as `updates` are applied automatically.\n",
            "  updates = self.state_updates\n"
          ]
        },
        {
          "output_type": "stream",
          "name": "stdout",
          "text": [
            "50000/50000 [==============================] - 2s 30us/sample - loss: 0.3752 - acc: 0.8880 - val_loss: 0.2012 - val_acc: 0.9422\n",
            "Epoch 3/20\n",
            "50000/50000 [==============================] - 2s 32us/sample - loss: 0.2836 - acc: 0.9171 - val_loss: 0.1618 - val_acc: 0.9543\n",
            "Epoch 4/20\n",
            "50000/50000 [==============================] - 2s 48us/sample - loss: 0.2357 - acc: 0.9310 - val_loss: 0.1346 - val_acc: 0.9615\n",
            "Epoch 5/20\n",
            "50000/50000 [==============================] - 2s 48us/sample - loss: 0.2008 - acc: 0.9411 - val_loss: 0.1216 - val_acc: 0.9679\n",
            "Epoch 6/20\n",
            "50000/50000 [==============================] - 2s 38us/sample - loss: 0.1755 - acc: 0.9492 - val_loss: 0.1104 - val_acc: 0.9691\n",
            "Epoch 7/20\n",
            "50000/50000 [==============================] - 2s 31us/sample - loss: 0.1609 - acc: 0.9524 - val_loss: 0.1037 - val_acc: 0.9694\n",
            "Epoch 8/20\n",
            "50000/50000 [==============================] - 1s 30us/sample - loss: 0.1443 - acc: 0.9591 - val_loss: 0.0952 - val_acc: 0.9720\n",
            "Epoch 9/20\n",
            "50000/50000 [==============================] - 1s 30us/sample - loss: 0.1328 - acc: 0.9606 - val_loss: 0.0909 - val_acc: 0.9731\n",
            "Epoch 10/20\n",
            "50000/50000 [==============================] - 1s 30us/sample - loss: 0.1196 - acc: 0.9639 - val_loss: 0.0860 - val_acc: 0.9740\n",
            "Epoch 11/20\n",
            "50000/50000 [==============================] - 1s 30us/sample - loss: 0.1111 - acc: 0.9658 - val_loss: 0.0835 - val_acc: 0.9752\n",
            "Epoch 12/20\n",
            "50000/50000 [==============================] - 2s 31us/sample - loss: 0.1051 - acc: 0.9685 - val_loss: 0.0817 - val_acc: 0.9762\n",
            "Epoch 13/20\n",
            "50000/50000 [==============================] - 3s 50us/sample - loss: 0.0965 - acc: 0.9709 - val_loss: 0.0792 - val_acc: 0.9766\n",
            "Epoch 14/20\n",
            "50000/50000 [==============================] - 2s 44us/sample - loss: 0.0919 - acc: 0.9721 - val_loss: 0.0758 - val_acc: 0.9780\n",
            "Epoch 15/20\n",
            "50000/50000 [==============================] - 2s 30us/sample - loss: 0.0839 - acc: 0.9742 - val_loss: 0.0753 - val_acc: 0.9776\n",
            "Epoch 16/20\n",
            "50000/50000 [==============================] - 1s 30us/sample - loss: 0.0826 - acc: 0.9747 - val_loss: 0.0750 - val_acc: 0.9778\n",
            "Epoch 17/20\n",
            "50000/50000 [==============================] - 1s 30us/sample - loss: 0.0760 - acc: 0.9769 - val_loss: 0.0716 - val_acc: 0.9783\n",
            "Epoch 18/20\n",
            "50000/50000 [==============================] - 2s 31us/sample - loss: 0.0740 - acc: 0.9775 - val_loss: 0.0704 - val_acc: 0.9787\n",
            "Epoch 19/20\n",
            "50000/50000 [==============================] - 2s 30us/sample - loss: 0.0686 - acc: 0.9785 - val_loss: 0.0743 - val_acc: 0.9798\n",
            "Epoch 20/20\n",
            "50000/50000 [==============================] - 2s 30us/sample - loss: 0.0694 - acc: 0.9786 - val_loss: 0.0697 - val_acc: 0.9789\n",
            "Test loss: 0.06973371712281369\n",
            "Test accuracy: 0.979200005531311\n",
            "Test loss: 0.06973371712281369\n",
            "Test accuracy: 0.979200005531311\n"
          ]
        },
        {
          "output_type": "execute_result",
          "data": {
            "text/plain": [
              "Text(0.5, 1.0, 'Loss Curve - after regularization')"
            ]
          },
          "metadata": {},
          "execution_count": 21
        },
        {
          "output_type": "display_data",
          "data": {
            "text/plain": [
              "<Figure size 640x480 with 1 Axes>"
            ],
            "image/png": "[encoded data removed]"
          },
          "metadata": {}
        }
      ]
    }
  ]
}